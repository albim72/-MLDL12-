{
 "cells":[
  {
   "cell_type":"code",
   "source":[
    "import tensorflow as tf\n",
    "import numpy as np\n",
    "import shap\n",
    "from sklearn.datasets import load_iris\n",
    "from sklearn.model_selection import train_test_split"
   ],
   "execution_count":1,
   "outputs":[],
   "metadata":{
    "datalore":{
     "node_id":"rg8rYwaKrcfNvwrQtzdlRN",
     "type":"CODE",
     "hide_input_from_viewers":true,
     "hide_output_from_viewers":true
    }
   }
  },
  {
   "cell_type":"code",
   "source":[
    "#pobieranie danych ze zbioru\n",
    "iris = load_iris()\n",
    "X,y = iris.data,iris.target"
   ],
   "execution_count":2,
   "outputs":[],
   "metadata":{
    "datalore":{
     "node_id":"Ghs6Vla7yzOMJnrvgRZKYQ",
     "type":"CODE",
     "hide_input_from_viewers":true,
     "hide_output_from_viewers":true
    }
   }
  },
  {
   "cell_type":"code",
   "source":[
    "X_train,X_test,y_train,x_test = train_test_split(X,y,test_size=0.2,random_state=42)"
   ],
   "execution_count":3,
   "outputs":[],
   "metadata":{
    "datalore":{
     "node_id":"wZ7EVfNy40c6saoFZEX175",
     "type":"CODE",
     "hide_input_from_viewers":true,
     "hide_output_from_viewers":true
    }
   }
  },
  {
   "cell_type":"code",
   "source":[
    "#utworzenie modelu\n",
    "model = tf.keras.Sequential([\n",
    "    tf.keras.layers.Dense(10,activation='relu',input_shape=(4,)),\n",
    "    tf.keras.layers.Dense(3,activation='softmax')\n",
    "])\n",
    "\n",
    "model.compile(optimizer='adam',\n",
    "              loss='sparse_categorical_crossentropy',\n",
    "              metrics = ['accuracy'])"
   ],
   "execution_count":4,
   "outputs":[],
   "metadata":{
    "datalore":{
     "node_id":"xxEQD9tamVBBBb8t8LWt85",
     "type":"CODE",
     "hide_input_from_viewers":true,
     "hide_output_from_viewers":true
    }
   }
  },
  {
   "cell_type":"code",
   "source":[
    "explainer = shap.DeepExplainer(model,X_train)"
   ],
   "execution_count":5,
   "outputs":[
    {
     "name":"stderr",
     "text":[
      "Your TensorFlow version is newer than 2.4.0 and so graph support has been removed in eager mode and some static graphs may not be supported. See PR #1483 for discussion.\n"
     ],
     "output_type":"stream"
    }
   ],
   "metadata":{
    "datalore":{
     "node_id":"S3RL34CtMaAOd75ysevZId",
     "type":"CODE",
     "hide_input_from_viewers":true,
     "hide_output_from_viewers":true
    }
   }
  },
  {
   "cell_type":"code",
   "source":[
    "shap_values = explainer.shap_values(X_test)"
   ],
   "execution_count":6,
   "outputs":[
    {
     "name":"stdout",
     "text":[
      "WARNING:tensorflow:From \/opt\/python\/envs\/default\/lib\/python3.8\/site-packages\/tensorflow\/python\/autograph\/pyct\/static_analysis\/liveness.py:83: Analyzer.lamba_check (from tensorflow.python.autograph.pyct.static_analysis.liveness) is deprecated and will be removed after 2023-09-23.\n",
      "Instructions for updating:\n",
      "Lambda fuctions will be no more assumed to be used in the statement where they are used, or at least in the same block. https:\/\/github.com\/tensorflow\/tensorflow\/issues\/56089\n"
     ],
     "output_type":"stream"
    },
    {
     "name":"stderr",
     "text":[
      "`tf.keras.backend.set_learning_phase` is deprecated and will be removed after 2020-10-11. To update it, simply pass a True\/False value to the `training` argument of the `__call__` method of your layer or model.\n"
     ],
     "output_type":"stream"
    }
   ],
   "metadata":{
    "datalore":{
     "node_id":"3H5ZPmOleYZpZFynrVl0DC",
     "type":"CODE",
     "hide_input_from_viewers":true,
     "hide_output_from_viewers":true
    }
   }
  },
  {
   "cell_type":"code",
   "source":[
    "shap.summary_plot(shap_values,X_test)"
   ],
   "execution_count":7,
   "outputs":[
    {
     "data":{
      "image\/png":"[encoded data removed]"
     },
     "metadata":{
      "image\/png":{}
     },
     "output_type":"display_data"
    }
   ],
   "metadata":{
    "datalore":{
     "node_id":"d13NWWFcL4jeEtLr4rofpS",
     "type":"CODE",
     "hide_input_from_viewers":true,
     "hide_output_from_viewers":true
    }
   }
  },
  {
   "cell_type":"code",
   "source":[
    "shap_values"
   ],
   "execution_count":8,
   "outputs":[
    {
     "data":{
      "text\/plain":[
       "[array([[ 4.19563178e-03, -2.53629000e-02, -5.09530273e-02,\n",
       "          2.61679295e-02],\n",
       "        [-6.43768119e-02,  1.08077154e-01,  8.93015868e-02,\n",
       "         -7.35743573e-02],\n",
       "        [-2.18022670e-02, -5.13990775e-02, -1.74354863e-01,\n",
       "          7.37682616e-02],\n",
       "        [ 7.81281849e-02, -3.49535559e-01,  3.71634954e-01,\n",
       "         -1.10851988e-01],\n",
       "        [-2.71752660e-02,  2.18245468e-04, -7.26820808e-02,\n",
       "          2.56430055e-02],\n",
       "        [ 1.09293266e-02,  3.85434525e-02,  1.18614674e-01,\n",
       "         -1.09888464e-01],\n",
       "        [ 6.82560899e-02, -3.00240146e-01,  7.80264775e-02,\n",
       "          2.11242952e-01],\n",
       "        [-4.83630146e-02,  1.78407836e-02, -2.33559033e-01,\n",
       "          2.25607305e-01],\n",
       "        [-5.12512859e-03, -8.53338814e-02, -3.13567056e-02,\n",
       "          3.08571953e-02],\n",
       "        [-7.74264311e-03, -7.83744027e-03,  2.47866381e-02,\n",
       "         -9.12953511e-03],\n",
       "        [ 1.34232242e-02, -3.60553838e-02, -5.68113079e-02,\n",
       "          6.17384293e-02],\n",
       "        [ 4.03022258e-02,  1.39756518e-02,  1.78031505e-01,\n",
       "         -1.73728136e-01],\n",
       "        [-1.06820060e-02,  7.95888809e-02,  8.25889574e-02,\n",
       "         -1.15561484e-01],\n",
       "        [ 3.75349799e-02,  9.66601145e-03,  3.06901715e-01,\n",
       "         -2.92166354e-01],\n",
       "        [ 1.45714703e-02,  3.12310048e-02,  7.48433165e-02,\n",
       "         -3.77197073e-02],\n",
       "        [-1.78180651e-03,  3.02686874e-03, -1.89570020e-02,\n",
       "          3.23644390e-02],\n",
       "        [-1.32853527e-02,  2.77405015e-02, -2.16238960e-01,\n",
       "          1.31950603e-01],\n",
       "        [-1.13002272e-02,  3.52761551e-03, -4.29116140e-02,\n",
       "          3.33240127e-02],\n",
       "        [-2.16401104e-02,  2.53835235e-02, -7.98910504e-02,\n",
       "          6.14058990e-02],\n",
       "        [-9.03245221e-04, -5.74475058e-02, -9.16247202e-02,\n",
       "          7.42268235e-02],\n",
       "        [ 3.97082996e-03,  5.78651149e-02,  5.73353876e-02,\n",
       "         -3.53737331e-02],\n",
       "        [ 4.07974859e-02, -1.21610078e-01,  9.92712448e-02,\n",
       "         -3.54575343e-02],\n",
       "        [-1.41330055e-03,  5.23261214e-02,  1.24226986e-01,\n",
       "         -9.20175118e-02],\n",
       "        [-6.78388603e-03, -2.74364846e-02, -1.21142528e-01,\n",
       "          7.71403720e-02],\n",
       "        [-4.36928824e-02,  1.15104206e-01, -2.82930610e-01,\n",
       "          1.29718333e-01],\n",
       "        [-2.46050191e-01,  4.08229412e-01, -1.00526254e+00,\n",
       "          7.97432756e-01],\n",
       "        [-8.72940666e-03, -5.71213816e-02, -1.09641311e-01,\n",
       "          4.71253374e-02],\n",
       "        [-2.37584704e-02,  5.27680975e-02, -2.32776289e-01,\n",
       "          1.39239866e-01],\n",
       "        [ 2.94348055e-02, -3.59937984e-02,  3.17217736e-01,\n",
       "         -2.43143616e-01],\n",
       "        [ 1.23153725e-02,  3.67799888e-02,  1.83271884e-01,\n",
       "         -1.55529071e-01]]),\n",
       " array([[ 0.02837167, -0.00868708,  0.02124032,  0.00973661],\n",
       "        [ 0.04880878, -0.07010126, -0.07468323,  0.03070162],\n",
       "        [ 0.06245072,  0.04331799,  0.15392679, -0.04592671],\n",
       "        [-0.08537093,  0.31121791, -0.33550779,  0.1257067 ],\n",
       "        [ 0.04810066, -0.00475743,  0.06236277, -0.01333803],\n",
       "        [-0.02064747, -0.02906317, -0.10441424,  0.08245272],\n",
       "        [-0.06841364,  0.26302622, -0.07687593, -0.17985706],\n",
       "        [ 0.06376934, -0.01749943,  0.20721498, -0.18888941],\n",
       "        [ 0.01484246,  0.07579299,  0.026233  , -0.0152156 ],\n",
       "        [ 0.0069006 ,  0.00416554, -0.0250992 ,  0.01177749],\n",
       "        [ 0.00164284,  0.03185387,  0.04693575, -0.04430017],\n",
       "        [-0.05565407, -0.01380946, -0.15541587,  0.12977744],\n",
       "        [ 0.00134205, -0.065472  , -0.07380381,  0.08726155],\n",
       "        [-0.05238705, -0.00780575, -0.27095679,  0.23621488],\n",
       "        [ 0.00689494, -0.1189545 , -0.09469266,  0.11424285],\n",
       "        [-0.02391307,  0.05018683,  0.06008515, -0.08958168],\n",
       "        [ 0.02725601, -0.02695145,  0.19039537, -0.09938018],\n",
       "        [ 0.00940111, -0.01128081,  0.0380679 , -0.02603789],\n",
       "        [ 0.02001441, -0.02744034,  0.06910085, -0.04914074],\n",
       "        [ 0.01512963,  0.04921865,  0.07657938, -0.04499578],\n",
       "        [-0.02828456, -0.04986117, -0.04435826,  0.00708357],\n",
       "        [-0.03005653,  0.10498771, -0.08905275,  0.04163168],\n",
       "        [-0.01847303, -0.04104381, -0.10431609,  0.06183153],\n",
       "        [ 0.02089287,  0.02089121,  0.10326133, -0.04738547],\n",
       "        [ 0.07117062, -0.09941128,  0.25107003, -0.10487661],\n",
       "        [ 0.23112056, -0.35901268,  0.88293243, -0.68551297],\n",
       "        [ 0.03526872,  0.04669215,  0.09321263, -0.02352974],\n",
       "        [ 0.04546307, -0.04747674,  0.20505696, -0.11259685],\n",
       "        [-0.04740621,  0.03118766, -0.27978368,  0.19722714],\n",
       "        [-0.03357529, -0.03177737, -0.15792556,  0.11449644]]),\n",
       " array([[-0.03256732,  0.03404997,  0.02971267, -0.03590449],\n",
       "        [ 0.0155681 , -0.03797592, -0.01461837,  0.04287273],\n",
       "        [-0.04064846,  0.00808108,  0.02042806, -0.02784155],\n",
       "        [ 0.00724276,  0.03831758, -0.0361271 , -0.01485475],\n",
       "        [-0.02092538,  0.00453917,  0.01031934, -0.01230498],\n",
       "        [ 0.00971814, -0.00948029, -0.01420045,  0.02743576],\n",
       "        [ 0.00015755,  0.03721388, -0.00115069, -0.03138577],\n",
       "        [-0.01540631, -0.00034135,  0.02634405, -0.03671789],\n",
       "        [-0.00971733,  0.00954088,  0.0051237 , -0.0156416 ],\n",
       "        [ 0.00084207,  0.00367177,  0.00031267, -0.00264798],\n",
       "        [-0.01506606,  0.00420152,  0.00987554, -0.01743826],\n",
       "        [ 0.01535184, -0.0001662 , -0.02261565,  0.0439507 ],\n",
       "        [ 0.00933994, -0.01411689, -0.00878516,  0.02829996],\n",
       "        [ 0.01485209, -0.00186027, -0.03594489,  0.05595143],\n",
       "        [-0.02146641,  0.08772353,  0.01984936, -0.07652317],\n",
       "        [ 0.02569488, -0.0532137 , -0.04112817,  0.05721725],\n",
       "        [-0.01397066, -0.00078906,  0.02584361, -0.03257043],\n",
       "        [ 0.00189912,  0.0077532 ,  0.00484371, -0.00728612],\n",
       "        [ 0.00162569,  0.00205681,  0.01079018, -0.01226516],\n",
       "        [-0.01422639,  0.00822894,  0.01504527, -0.02923102],\n",
       "        [ 0.02431374, -0.00800393, -0.01297713,  0.02829014],\n",
       "        [-0.01074098,  0.01662243, -0.01021851, -0.00617414],\n",
       "        [ 0.01988633, -0.01128232, -0.01991091,  0.03018599],\n",
       "        [-0.014109  ,  0.00654529,  0.01788115, -0.02975489],\n",
       "        [-0.02747773, -0.01569292,  0.03186056, -0.02484171],\n",
       "        [ 0.0149296 , -0.04921674,  0.12233011, -0.11191977],\n",
       "        [-0.02653931,  0.01042923,  0.01642868, -0.0235956 ],\n",
       "        [-0.02170461, -0.00529133,  0.0277193 , -0.026643  ],\n",
       "        [ 0.01797141,  0.00480615, -0.03743404,  0.04591646],\n",
       "        [ 0.02125992, -0.00500263, -0.02534634,  0.04103265]])]"
      ]
     },
     "metadata":{},
     "output_type":"display_data"
    }
   ],
   "metadata":{
    "datalore":{
     "node_id":"d7aod4O16AzOQutv4BDSVy",
     "type":"CODE",
     "hide_input_from_viewers":true,
     "hide_output_from_viewers":true
    }
   }
  }
 ],
 "metadata":{
  "kernelspec":{
   "display_name":"Python",
   "language":"python",
   "name":"python"
  },
  "datalore":{
   "computation_mode":"JUPYTER",
   "package_manager":"pip",
   "base_environment":"default",
   "packages":[
    {
     "name":"shap",
     "version":"0.44.1",
     "source":"PIP"
    }
   ],
   "report_row_ids":[],
   "version":3
  }
 },
 "nbformat":4,
 "nbformat_minor":4
}