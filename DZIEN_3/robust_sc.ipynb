{
 "cells":[
  {
   "cell_type":"code",
   "source":[
    "import numpy as np\n",
    "from sklearn.preprocessing import RobustScaler"
   ],
   "execution_count":8,
   "outputs":[],
   "metadata":{
    "datalore":{
     "node_id":"TM7Mi8j20gfBR9eiKwm4QV",
     "type":"CODE",
     "hide_input_from_viewers":true,
     "hide_output_from_viewers":true
    }
   }
  },
  {
   "cell_type":"code",
   "source":[
    "X = np.array([\n",
    "    [0.00023,0.0098],\n",
    "    [1.0,150.0],\n",
    "    [1.7,190.0],\n",
    "    [2.6,240.0],\n",
    "    [4.5,390.0],\n",
    "    [5.8,650.0],\n",
    "    [222.0,1520.0],\n",
    "    [12300.0,231900.0],\n",
    "])"
   ],
   "execution_count":9,
   "outputs":[],
   "metadata":{
    "datalore":{
     "node_id":"Gdoh6bJ0UHHP3rpaEuw7Zy",
     "type":"CODE",
     "hide_input_from_viewers":true,
     "hide_output_from_viewers":true
    }
   }
  },
  {
   "cell_type":"code",
   "source":[
    "scaler = RobustScaler()"
   ],
   "execution_count":10,
   "outputs":[],
   "metadata":{
    "datalore":{
     "node_id":"0f5tmtooA4Lkcsexp6TUCB",
     "type":"CODE",
     "hide_input_from_viewers":true,
     "hide_output_from_viewers":true
    }
   }
  },
  {
   "cell_type":"code",
   "source":[
    "x_scaled = scaler.fit_transform(X)"
   ],
   "execution_count":11,
   "outputs":[],
   "metadata":{
    "datalore":{
     "node_id":"588lO1tTUkIYfTz9K9yM1u",
     "type":"CODE",
     "hide_input_from_viewers":true,
     "hide_output_from_viewers":true
    }
   }
  },
  {
   "cell_type":"code",
   "source":[
    "print(f\"oryginalne wartości:\\n {X}\")"
   ],
   "execution_count":12,
   "outputs":[
    {
     "name":"stdout",
     "text":[
      "oryginalne wartości:\n",
      " [[2.300e-04 9.800e-03]\n",
      " [1.000e+00 1.500e+02]\n",
      " [1.700e+00 1.900e+02]\n",
      " [2.600e+00 2.400e+02]\n",
      " [4.500e+00 3.900e+02]\n",
      " [5.800e+00 6.500e+02]\n",
      " [2.220e+02 1.520e+03]\n",
      " [1.230e+04 2.319e+05]]\n"
     ],
     "output_type":"stream"
    }
   ],
   "metadata":{
    "datalore":{
     "node_id":"uyKq2LF7i1l9dHHQYvx7Uf",
     "type":"CODE",
     "hide_input_from_viewers":true,
     "hide_output_from_viewers":true
    }
   }
  },
  {
   "cell_type":"code",
   "source":[
    "print(f\"znormalizowane wartości:\\n {x_scaled}\")"
   ],
   "execution_count":13,
   "outputs":[
    {
     "name":"stdout",
     "text":[
      "znormalizowane wartości:\n",
      " [[-6.08618946e-02 -4.58167564e-01]\n",
      " [-4.37205315e-02 -2.40000000e-01]\n",
      " [-3.17188170e-02 -1.81818182e-01]\n",
      " [-1.62880411e-02 -1.09090909e-01]\n",
      " [ 1.62880411e-02  1.09090909e-01]\n",
      " [ 3.85769396e-02  4.87272727e-01]\n",
      " [ 3.74539220e+00  1.75272727e+00]\n",
      " [ 2.10826404e+02  3.36850909e+02]]\n"
     ],
     "output_type":"stream"
    }
   ],
   "metadata":{
    "datalore":{
     "node_id":"tZw5i0XcIow3RawFpwZmwO",
     "type":"CODE",
     "hide_input_from_viewers":true,
     "hide_output_from_viewers":true
    }
   }
  }
 ],
 "metadata":{
  "kernelspec":{
   "display_name":"Python",
   "language":"python",
   "name":"python"
  },
  "datalore":{
   "computation_mode":"JUPYTER",
   "package_manager":"pip",
   "base_environment":"default",
   "packages":[],
   "report_row_ids":[],
   "version":3
  }
 },
 "nbformat":4,
 "nbformat_minor":4
}