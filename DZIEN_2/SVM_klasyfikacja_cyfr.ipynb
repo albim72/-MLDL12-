{
 "cells":[
  {
   "cell_type":"code",
   "source":[
    "from sklearn import datasets,metrics,svm\n",
    "from sklearn.model_selection import train_test_split\n",
    "import matplotlib.pyplot as plt\n",
    "import pickle"
   ],
   "execution_count":64,
   "outputs":[],
   "metadata":{
    "datalore":{
     "node_id":"eqE3PMOcA4nPLUvETReFgN",
     "type":"CODE",
     "hide_input_from_viewers":true,
     "hide_output_from_viewers":true
    }
   }
  },
  {
   "cell_type":"code",
   "source":[
    "digits = datasets.load_digits()"
   ],
   "execution_count":56,
   "outputs":[],
   "metadata":{
    "datalore":{
     "node_id":"R7OM3XgpShDhdQgszfCxCL",
     "type":"CODE",
     "hide_input_from_viewers":true,
     "hide_output_from_viewers":true
    }
   }
  },
  {
   "cell_type":"code",
   "source":[
    "_, axes = plt.subplots(nrows=1,ncols=4,figsize=(10,3))\n",
    "for ax,image,label in zip(axes,digits.images,digits.target):\n",
    "    ax.set_axis_off()\n",
    "    ax.imshow(image,cmap=plt.cm.gray_r,interpolation='nearest')\n",
    "    ax.set_title(f\"Trening: {label}\")"
   ],
   "execution_count":57,
   "outputs":[
    {
     "data":{
      "image\/png":"[encoded data removed]"
     },
     "metadata":{
      "image\/png":{}
     },
     "output_type":"display_data"
    }
   ],
   "metadata":{
    "datalore":{
     "node_id":"ZThCDIwi1nZMwL5qqeCVP6",
     "type":"CODE",
     "hide_input_from_viewers":true,
     "hide_output_from_viewers":true
    }
   }
  },
  {
   "cell_type":"code",
   "source":[
    "n_samples = len(digits.images)\n",
    "n_samples"
   ],
   "execution_count":58,
   "outputs":[
    {
     "data":{
      "text\/plain":[
       "1797"
      ]
     },
     "metadata":{},
     "output_type":"display_data"
    }
   ],
   "metadata":{
    "datalore":{
     "node_id":"dgSwkfuwacrSXXDS4XFZ1r",
     "type":"CODE",
     "hide_input_from_viewers":true,
     "hide_output_from_viewers":true
    }
   }
  },
  {
   "cell_type":"code",
   "source":[
    "#utowrzenie modelu klasyfikatora SVM\n",
    "clf = svm.SVC(gamma=0.001,C=1)"
   ],
   "execution_count":59,
   "outputs":[],
   "metadata":{
    "datalore":{
     "node_id":"8iOsropFBoKzaZRYHfTzvY",
     "type":"CODE",
     "hide_input_from_viewers":true,
     "hide_output_from_viewers":true
    }
   }
  },
  {
   "cell_type":"code",
   "source":[
    "#przygotowanie zbioru danych do treningu\n",
    "datasets = digits.images.reshape((n_samples,-1))\n",
    "X_train,X_test,y_train,y_test = train_test_split(datasets,digits.target,test_size=0.5,shuffle=False)\n",
    "clf.fit(X_train,y_train)\n",
    "predicted = clf.predict(X_test)"
   ],
   "execution_count":60,
   "outputs":[],
   "metadata":{
    "datalore":{
     "node_id":"zA1nBXbi6Dfnmukh1eG4xd",
     "type":"CODE",
     "hide_input_from_viewers":true,
     "hide_output_from_viewers":true
    }
   }
  },
  {
   "cell_type":"code",
   "source":[
    "_, axes = plt.subplots(nrows=1,ncols=4,figsize=(10,3))\n",
    "for ax,image,prediction in zip(axes,X_test,predicted):\n",
    "    ax.set_axis_off()\n",
    "    image = image.reshape(8,8)\n",
    "    ax.imshow(image,cmap=plt.cm.gray_r,interpolation='nearest')\n",
    "    ax.set_title(f\"Predykcja: {prediction}\")"
   ],
   "execution_count":61,
   "outputs":[
    {
     "data":{
      "image\/png":"[encoded data removed]"
     },
     "metadata":{
      "image\/png":{}
     },
     "output_type":"display_data"
    }
   ],
   "metadata":{
    "datalore":{
     "node_id":"AVXF9mFERiFCfuo3z7a0c6",
     "type":"CODE",
     "hide_input_from_viewers":true,
     "hide_output_from_viewers":true
    }
   }
  },
  {
   "cell_type":"code",
   "source":[
    "#ocena modelu\n",
    "print(f\"raport klasyfikacji dla klasyfikatora {clf}\\n{metrics.classification_report(y_test,predicted)}\\n\")"
   ],
   "execution_count":62,
   "outputs":[
    {
     "name":"stdout",
     "text":[
      "raport klasyfikacji dla klasyfikatora SVC(C=1, gamma=0.001)\n",
      "              precision    recall  f1-score   support\n",
      "\n",
      "           0       1.00      0.99      0.99        88\n",
      "           1       0.99      0.97      0.98        91\n",
      "           2       0.99      0.99      0.99        86\n",
      "           3       0.98      0.87      0.92        91\n",
      "           4       0.99      0.96      0.97        92\n",
      "           5       0.95      0.97      0.96        91\n",
      "           6       0.99      0.99      0.99        91\n",
      "           7       0.96      0.99      0.97        89\n",
      "           8       0.94      1.00      0.97        88\n",
      "           9       0.93      0.98      0.95        92\n",
      "\n",
      "    accuracy                           0.97       899\n",
      "   macro avg       0.97      0.97      0.97       899\n",
      "weighted avg       0.97      0.97      0.97       899\n",
      "\n",
      "\n"
     ],
     "output_type":"stream"
    }
   ],
   "metadata":{
    "datalore":{
     "node_id":"BuQYzj3hEiHd6soe0HWr01",
     "type":"CODE",
     "hide_input_from_viewers":true,
     "hide_output_from_viewers":true
    }
   }
  },
  {
   "cell_type":"code",
   "source":[
    "# macierz pomyłek\n",
    "disp = metrics.ConfusionMatrixDisplay.from_predictions(y_test,predicted)\n",
    "disp.figure_.suptitle(\"Macierz pomyłek\")"
   ],
   "execution_count":63,
   "outputs":[
    {
     "data":{
      "text\/plain":[
       "Text(0.5, 0.98, 'Macierz pomyłek')"
      ]
     },
     "metadata":{},
     "output_type":"display_data"
    },
    {
     "data":{
      "image\/png":"[encoded data removed]"
     },
     "metadata":{
      "image\/png":{}
     },
     "output_type":"display_data"
    }
   ],
   "metadata":{
    "datalore":{
     "node_id":"MIKVcBYmK5stahV8zRoVho",
     "type":"CODE",
     "hide_input_from_viewers":true,
     "hide_output_from_viewers":true
    }
   }
  },
  {
   "cell_type":"code",
   "source":[
    "with open('mojmodel.pkl','wb') as file:\n",
    "    pickle.dump(clf,file=file)"
   ],
   "execution_count":65,
   "outputs":[],
   "metadata":{
    "datalore":{
     "node_id":"V7PtCgExF5JT7iJaGXpMRC",
     "type":"CODE",
     "hide_input_from_viewers":true,
     "hide_output_from_viewers":true
    }
   }
  },
  {
   "cell_type":"code",
   "source":[
    "with open('mojmodel.pkl','rb') as file:\n",
    "    loaded_model = pickle.load(file)"
   ],
   "execution_count":66,
   "outputs":[],
   "metadata":{
    "datalore":{
     "node_id":"4KL6RfURWLNCkmWyBxYgOl",
     "type":"CODE",
     "hide_input_from_viewers":true,
     "hide_output_from_viewers":true
    }
   }
  },
  {
   "cell_type":"code",
   "source":[
    "predicted2 = loaded_model.predict(X_test)"
   ],
   "execution_count":67,
   "outputs":[],
   "metadata":{
    "datalore":{
     "node_id":"i3gn9ptmNHwhpdeMgMoWbo",
     "type":"CODE",
     "hide_input_from_viewers":true,
     "hide_output_from_viewers":true
    }
   }
  },
  {
   "cell_type":"code",
   "source":[
    "disp = metrics.ConfusionMatrixDisplay.from_predictions(y_test,predicted2)\n",
    "disp.figure_.suptitle(\"Macierz pomyłek 2\")"
   ],
   "execution_count":68,
   "outputs":[
    {
     "data":{
      "text\/plain":[
       "Text(0.5, 0.98, 'Macierz pomyłek 2')"
      ]
     },
     "metadata":{},
     "output_type":"display_data"
    },
    {
     "data":{
      "image\/png":"[encoded data removed]"
     },
     "metadata":{
      "image\/png":{}
     },
     "output_type":"display_data"
    }
   ],
   "metadata":{
    "datalore":{
     "node_id":"yXq6bUkFyHOdZW6NZtxbCc",
     "type":"CODE",
     "hide_input_from_viewers":true,
     "hide_output_from_viewers":true
    }
   }
  },
  {
   "cell_type":"code",
   "source":[
    "drugi_clf = svm.SVC(gamma=0.001,C=1)\n",
    "# predicted3 = drugi_clf.predict(X_test)"
   ],
   "execution_count":71,
   "outputs":[],
   "metadata":{
    "datalore":{
     "node_id":"ei20TdcIMQwrGk7pz9rbpU",
     "type":"CODE",
     "hide_input_from_viewers":true,
     "hide_output_from_viewers":true
    }
   }
  },
  {
   "cell_type":"code",
   "source":[
    "# disp = metrics.ConfusionMatrixDisplay.from_predictions(y_test,drugi_clf)\n",
    "# disp.figure_.suptitle(\"Macierz pomyłek 3\")"
   ],
   "execution_count":73,
   "outputs":[],
   "metadata":{
    "datalore":{
     "node_id":"doMwR5FEqRebvdI5av3Vb5",
     "type":"CODE",
     "hide_input_from_viewers":true,
     "hide_output_from_viewers":true
    }
   }
  },
  {
   "cell_type":"markdown",
   "source":[
    "Nie można podstawic do oceny niewytrenowanego modelu!"
   ],
   "attachments":{},
   "metadata":{
    "datalore":{
     "node_id":"AU8Xau9En79ANGnwzeutlb",
     "type":"MD",
     "hide_input_from_viewers":true,
     "hide_output_from_viewers":true
    }
   }
  }
 ],
 "metadata":{
  "kernelspec":{
   "display_name":"Python",
   "language":"python",
   "name":"python"
  },
  "datalore":{
   "computation_mode":"JUPYTER",
   "package_manager":"pip",
   "base_environment":"default",
   "packages":[],
   "report_row_ids":[],
   "version":3
  }
 },
 "nbformat":4,
 "nbformat_minor":4
}